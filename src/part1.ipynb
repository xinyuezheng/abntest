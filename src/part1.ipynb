{
 "cells": [
  {
   "cell_type": "code",
   "execution_count": 1,
   "id": "51ff3f6d",
   "metadata": {},
   "outputs": [],
   "source": [
    "import pandas as pd\n",
    "import os"
   ]
  },
  {
   "cell_type": "code",
   "execution_count": 2,
   "id": "21fb59d1",
   "metadata": {},
   "outputs": [],
   "source": [
    "df_gdp=pd.read_csv(os.path.join('data', 'EU_GDP_2021.csv'))\n",
    "df_gdp.dropna(subset=['2021 [YR2021]'], inplace=True)\n",
    "\n",
    "# Filter countries with valid GDP number in year 2021\n",
    "df_gdp_clean = df_gdp[df_gdp['2021 [YR2021]'].str.contains('\\d+[\\.|\\d+]?')]\n",
    "\n",
    "# Only use GDP in year 2021, convert it to float type\n",
    "df_gdp_2021 = df_gdp_clean.filter(items=['Country Name', 'Country Code', '2021 [YR2021]'])\n",
    "df_gdp_2021['2021 [YR2021]'] = df_gdp_2021['2021 [YR2021]'].astype(float)\n"
   ]
  },
  {
   "cell_type": "code",
   "execution_count": 3,
   "id": "dc66a9f2",
   "metadata": {},
   "outputs": [],
   "source": [
    "df_survey=pd.read_csv(os.path.join('data', 'survey_results_public_2021.csv'))\n",
    "df_survey.dropna(subset=['Age1stCode'], inplace=True)\n",
    "\n",
    "# Convert the age range to numeric type for calculation. Use the middle number within the age range\n",
    "df_survey['Age1stCodeNum']=df_survey['Age1stCode'].map({'Younger than 5 years':3, '5 - 10 years':7, '11 - 17 years': 14, '18 - 24 years':21, '25 - 34 years':30, '35 - 44 years':40, '45 - 54 years':50, '55 - 64 years':60, 'Older than 64 years':70})\n",
    "\n",
    "# Calculate the 'mean' and 'minimum' of the Age1stCode per country\n",
    "df_survey_group = df_survey.groupby(\"Country\").agg(Age1stCodeMin=('Age1stCodeNum', 'min'), Age1stCodeAvg=('Age1stCodeNum', 'mean'))\n"
   ]
  },
  {
   "cell_type": "code",
   "execution_count": 4,
   "id": "6a70b8c0",
   "metadata": {},
   "outputs": [
    {
     "name": "stdout",
     "output_type": "stream",
     "text": [
      "    Age1stCodeMin  Age1stCodeAvg            Country Name Country Code  \\\n",
      "0               3      18.242857                 Albania          ALB   \n",
      "1               7      19.636364                 Andorra          AND   \n",
      "2               3      18.142857                 Armenia          ARM   \n",
      "3               3      15.925651                 Austria          AUT   \n",
      "4               7      18.203125              Azerbaijan          AZE   \n",
      "5               7      16.448485                 Belarus          BLR   \n",
      "6               3      16.130560                 Belgium          BEL   \n",
      "7               7      16.723077  Bosnia and Herzegovina          BIH   \n",
      "8               3      17.445274                Bulgaria          BGR   \n",
      "9               3      15.392000                 Croatia          HRV   \n",
      "10              7      17.625000                  Cyprus          CYP   \n",
      "11              3      15.797997                 Denmark          DNK   \n",
      "12              3      15.169231                 Estonia          EST   \n",
      "13              3      15.318182                 Finland          FIN   \n",
      "14              3      15.733728                  France          FRA   \n",
      "15              3      17.291925                 Georgia          GEO   \n",
      "16              3      15.835024                 Germany          DEU   \n",
      "17              7      17.146179                  Greece          GRC   \n",
      "18              3      15.506276                 Hungary          HUN   \n",
      "19              7      16.255814                 Iceland          ISL   \n",
      "20              3      16.580311                 Ireland          IRL   \n",
      "21              3      15.892428                   Italy          ITA   \n",
      "22              3      16.261538              Kazakhstan          KAZ   \n",
      "23              3      17.933333                  Kosovo          XKX   \n",
      "24              7      15.336449                  Latvia          LVA   \n",
      "25              3      15.528846               Lithuania          LTU   \n",
      "26              7      16.784314              Luxembourg          LUX   \n",
      "27             14      14.000000                  Monaco          MCO   \n",
      "28             14      19.294118              Montenegro          MNE   \n",
      "29              3      15.456804             Netherlands          NLD   \n",
      "30              3      15.598007                  Norway          NOR   \n",
      "31              3      14.878889                  Poland          POL   \n",
      "32              3      17.432075                Portugal          PRT   \n",
      "33              3      15.932308                 Romania          ROU   \n",
      "34              3      15.307065      Russian Federation          RUS   \n",
      "35              3      16.556634                  Serbia          SRB   \n",
      "36              3      15.893617                Slovenia          SVN   \n",
      "37              3      17.151147                   Spain          ESP   \n",
      "38              3      14.823283                  Sweden          SWE   \n",
      "39              3      15.710098             Switzerland          CHE   \n",
      "40              3      16.111111              Tajikistan          TJK   \n",
      "41              3      16.227273                 Ukraine          UKR   \n",
      "42              3      16.691176              Uzbekistan          UZB   \n",
      "\n",
      "    2021 [YR2021]  \n",
      "0     6492.872012  \n",
      "1    42137.327271  \n",
      "2     4966.513471  \n",
      "3    53637.705711  \n",
      "4     5387.997975  \n",
      "5     7302.257794  \n",
      "6    51247.014353  \n",
      "7     7143.310548  \n",
      "8    12221.496606  \n",
      "9    17685.325283  \n",
      "10   31551.816406  \n",
      "11   68007.756673  \n",
      "12   27943.701220  \n",
      "13   53654.750296  \n",
      "14   43658.978978  \n",
      "15    5023.274380  \n",
      "16   51203.554473  \n",
      "17   20192.596304  \n",
      "18   18728.121895  \n",
      "19   68727.636665  \n",
      "20  100172.079253  \n",
      "21   35657.497563  \n",
      "22   10373.789792  \n",
      "23    5269.783901  \n",
      "24   21148.162941  \n",
      "25   23723.340251  \n",
      "26  133590.146976  \n",
      "27  234315.460504  \n",
      "28    9465.703999  \n",
      "29   57767.878811  \n",
      "30   89154.276093  \n",
      "31   17999.909950  \n",
      "32   24567.509265  \n",
      "33   14858.229429  \n",
      "34   12194.777344  \n",
      "35    9230.178316  \n",
      "36   29291.400623  \n",
      "37   30103.513733  \n",
      "38   61028.738060  \n",
      "39   91991.600458  \n",
      "40     897.047510  \n",
      "41    4835.571777  \n",
      "42    1983.064723  \n"
     ]
    }
   ],
   "source": [
    "df_merge = pd.merge(df_survey_group, df_gdp_2021, left_on='Country', right_on='Country Name')\n",
    "\n",
    "print(df_merge)\n"
   ]
  },
  {
   "cell_type": "code",
   "execution_count": 5,
   "id": "f055c56f",
   "metadata": {},
   "outputs": [
    {
     "data": {
      "image/png": "[encoded data removed]",
      "text/plain": [
       "<Figure size 640x480 with 1 Axes>"
      ]
     },
     "metadata": {},
     "output_type": "display_data"
    }
   ],
   "source": [
    "import matplotlib.pyplot as plt\n",
    "\n",
    "plt.scatter(df_merge[\"2021 [YR2021]\"], df_merge[\"Age1stCodeAvg\"])\n",
    "plt.show()"
   ]
  },
  {
   "cell_type": "code",
   "execution_count": 6,
   "id": "4919a8e2",
   "metadata": {},
   "outputs": [],
   "source": [
    "# Prepare for part2 \n",
    "# Convert the 'minimum' number back to age range \n",
    "df_merge['Age1stCodeYoungest']=df_merge['Age1stCodeMin'].map({3:'Younger than 5 years', 7:'5 - 10 years', 14:'11 - 17 years', 21:'18 - 24 years', 30:'25 - 34 years', 40:'35 - 44 years', 50:'45 - 54 years', 60:'55 - 64 years', 70:'Older than 64 years'})\n",
    "\n",
    "# Write the analyze data to a table in DB\n",
    "import sqlite3\n",
    "with sqlite3.connect('abn.db', timeout=10) as conn:\n",
    "    df_merge.to_sql('CountryStartCodingAge', conn, if_exists='replace', index=False)"
   ]
  },
  {
   "cell_type": "code",
   "execution_count": null,
   "id": "41399af4",
   "metadata": {},
   "outputs": [],
   "source": []
  }
 ],
 "metadata": {
  "kernelspec": {
   "display_name": "Python 3 (ipykernel)",
   "language": "python",
   "name": "python3"
  },
  "language_info": {
   "codemirror_mode": {
    "name": "ipython",
    "version": 3
   },
   "file_extension": ".py",
   "mimetype": "text/x-python",
   "name": "python",
   "nbconvert_exporter": "python",
   "pygments_lexer": "ipython3",
   "version": "3.8.2"
  }
 },
 "nbformat": 4,
 "nbformat_minor": 5
}
